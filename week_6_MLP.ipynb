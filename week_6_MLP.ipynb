{
 "cells": [
  {
   "cell_type": "code",
   "execution_count": 3,
   "metadata": {},
   "outputs": [],
   "source": [
    "# Fuzzyfikasi\n",
    "def permintaan_turun(x):\n",
    "    if x <= 1000:\n",
    "        nilai = 1\n",
    "    elif 1000 < x < 5000:\n",
    "        nilai = (5000 - x) / 4000\n",
    "    else:\n",
    "        nilai = 0\n",
    "\n",
    "    return nilai\n",
    "\n",
    "def permintaan_naik(x):\n",
    "    if x <= 1000:\n",
    "        nilai = 0\n",
    "    elif 1000 < x < 5000:\n",
    "        nilai = (x - 1000) / 4000\n",
    "    else:\n",
    "        nilai = 1\n",
    "\n",
    "    return nilai\n",
    "\n",
    "def persediaan_sedikit(x):\n",
    "    if x <= 100:\n",
    "        nilai = 1\n",
    "    elif 100 < x < 600:\n",
    "        nilai = (600 - x) / 500\n",
    "    else:\n",
    "        nilai = 0\n",
    "\n",
    "    return nilai\n",
    "\n",
    "def persediaan_banyak(x):\n",
    "    if x <= 100:\n",
    "        nilai = 0\n",
    "    elif 100 < x < 600:\n",
    "        nilai = (x - 100) / 500\n",
    "    else:\n",
    "        nilai = 1\n",
    "\n",
    "    return nilai\n",
    "\n",
    "def produksi_berkurang(x):\n",
    "    if x <= 2000:\n",
    "        nilai = 1\n",
    "    elif 2000 < x < 7000:\n",
    "        nilai = (7000 - x) / 5000\n",
    "    else:\n",
    "        nilai = 0\n",
    "\n",
    "    return nilai\n",
    "\n",
    "def produksi_bertambah(x):\n",
    "    if x <= 2000:\n",
    "        nilai = 0\n",
    "    elif 2000 < x < 7000:\n",
    "        nilai = (x - 2000) / 5000\n",
    "    else:\n",
    "        nilai = 1\n",
    "\n",
    "    return nilai\n",
    "\n",
    "#Mesin Inferensi\n",
    "def rule1(x, y):\n",
    "    alpha = min(permintaan_turun(x), persediaan_banyak(y))\n",
    "    z = 7000 - 5000 * alpha\n",
    "    return alpha, z\n",
    "\n",
    "def rule2(x, y):\n",
    "    alpha = min(permintaan_turun(x), persediaan_sedikit(y))\n",
    "    z = 7000 - 5000 * alpha\n",
    "    return alpha, z\n",
    "\n",
    "def rule3(x, y):\n",
    "    alpha = min(permintaan_naik(x), persediaan_banyak(y))\n",
    "    z = 2000 + 5000 * alpha\n",
    "    return alpha, z\n",
    "\n",
    "def rule4(x, y):\n",
    "    alpha = min(permintaan_naik(x), persediaan_sedikit(y))\n",
    "    z = 2000 + 5000 * alpha\n",
    "    return alpha, z\n",
    "\n",
    "\n",
    "\n",
    "#Defuzzifikasi\n",
    "def tsukamoto(x, y):\n",
    "    alpha1, z1 = rule1(x, y)\n",
    "    alpha2, z2 = rule2(x, y)\n",
    "    alpha3, z3 = rule3(x, y)\n",
    "    alpha4, z4 = rule4(x, y)\n",
    "    alpha = alpha1 * z1 + alpha2 * z2 + alpha3 * z3 + alpha4 * z4\n",
    "    z = alpha1 + alpha2 + alpha3 + alpha4\n",
    "    hasil = alpha / z if z != 0 else 0\n",
    "    return hasil\n",
    "\n",
    "\n",
    "p = 4000\n",
    "q = 300\n",
    "print(\"Jika Permintaan =\", p, \"dan Persediaan =\", q, \"maka Produksi =\", tsukamoto(p, q))\n"
   ]
  },
  {
   "cell_type": "markdown",
   "metadata": {},
   "source": [
    "## Nomor 2\n"
   ]
  },
  {
   "cell_type": "markdown",
   "metadata": {},
   "source": [
    "Sebuah industri produsen kain akan memproduksi kain sarung. Berdasarkan data 1 bulan terakhir, permintaan terbesar mencapai 5000 lembar/hari, permintaan sedang berada pada rentang 2000-3500 lembar/hari, permintaan terkecil hingga 500 lembar/hari. Persediaan barang digudang terbanyak adalah hingga 250 lembar/hari, dan terkecil hanya 50 lembar/hari. Dengan segala keterbatasan mesin, perusahaan hanya mampu memproduksi sarung maksimum 6000 lembar/hari, dan untuk efisiensi mesin dan tenaga kerja tiap hari, perusahaan memproduksi paling sedikit 1000 lembar/hari. Jika permintaan pasar mencapai 4000 lembar dan persediaan di gudang tersisa 500 lembar, maka berapa jumlah sarung yang harus diproduksi agar memenuhi permintaan pasar dan persediaan di gudang tetap aman ?"
   ]
  },
  {
   "cell_type": "code",
   "execution_count": null,
   "metadata": {},
   "outputs": [],
   "source": [
    "def permintaan_terbesar(x):\n",
    "    if x <= 3500:\n",
    "        return 0\n",
    "    if 3500 < x < 5000:\n",
    "        return (x-3500) / 1500\n",
    "    return 1\n",
    "\n",
    "def permintaan_sedang(x):\n",
    "    if x <= 2000:\n",
    "        return 0\n",
    "    if 2000 < x < 3500:\n",
    "        return 1\n",
    "    if 3500 < x < 5000:\n",
    "        return (5000-x) / 1500\n",
    "    return 0\n",
    "\n",
    "def permintaan_terkecil(x):\n",
    "    if x <= 500:\n",
    "        return 1\n",
    "    if 500 < x < 2000:\n",
    "        return (x-500) / 1500\n",
    "    return 0\n",
    "    \n",
    "def persediaan_banyak(x):\n",
    "    if x <= 15-:\n",
    "        return 1\n",
    "    if 100 < x < 600:\n",
    "        return (600-x) / 500\n",
    "    return 0\n"
   ]
  },
  {
   "cell_type": "markdown",
   "metadata": {},
   "source": []
  },
  {
   "cell_type": "code",
   "execution_count": null,
   "metadata": {},
   "outputs": [],
   "source": []
  },
  {
   "cell_type": "code",
   "execution_count": null,
   "metadata": {},
   "outputs": [],
   "source": []
  },
  {
   "cell_type": "code",
   "execution_count": 7,
   "metadata": {},
   "outputs": [
    {
     "ename": "SyntaxError",
     "evalue": "invalid syntax (525519296.py, line 1)",
     "output_type": "error",
     "traceback": [
      "\u001b[1;36m  Input \u001b[1;32mIn [7]\u001b[1;36m\u001b[0m\n\u001b[1;33m    |\u001b[0m\n\u001b[1;37m    ^\u001b[0m\n\u001b[1;31mSyntaxError\u001b[0m\u001b[1;31m:\u001b[0m invalid syntax\n"
     ]
    }
   ],
   "source": [
    "|"
   ]
  },
  {
   "cell_type": "code",
   "execution_count": null,
   "metadata": {},
   "outputs": [],
   "source": []
  },
  {
   "cell_type": "code",
   "execution_count": 8,
   "metadata": {},
   "outputs": [
    {
     "ename": "SyntaxError",
     "evalue": "invalid syntax (525519296.py, line 1)",
     "output_type": "error",
     "traceback": [
      "\u001b[1;36m  Input \u001b[1;32mIn [8]\u001b[1;36m\u001b[0m\n\u001b[1;33m    |\u001b[0m\n\u001b[1;37m    ^\u001b[0m\n\u001b[1;31mSyntaxError\u001b[0m\u001b[1;31m:\u001b[0m invalid syntax\n"
     ]
    }
   ],
   "source": [
    "|"
   ]
  },
  {
   "cell_type": "code",
   "execution_count": null,
   "metadata": {},
   "outputs": [],
   "source": []
  },
  {
   "cell_type": "code",
   "execution_count": null,
   "metadata": {},
   "outputs": [],
   "source": []
  },
  {
   "cell_type": "code",
   "execution_count": null,
   "metadata": {},
   "outputs": [],
   "source": []
  }
 ],
 "metadata": {
  "kernelspec": {
   "display_name": "jcopml",
   "language": "python",
   "name": "python3"
  },
  "language_info": {
   "codemirror_mode": {
    "name": "ipython",
    "version": 3
   },
   "file_extension": ".py",
   "mimetype": "text/x-python",
   "name": "python",
   "nbconvert_exporter": "python",
   "pygments_lexer": "ipython3",
   "version": "3.9.0"
  }
 },
 "nbformat": 4,
 "nbformat_minor": 2
}
