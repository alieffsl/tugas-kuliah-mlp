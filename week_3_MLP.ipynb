{
 "cells": [
  {
   "cell_type": "markdown",
   "metadata": {},
   "source": [
    "# Data Transformation\n",
    "\n",
    "## Contoh 14: Rescale Data antara 0 dan 1"
   ]
  },
  {
   "cell_type": "code",
   "execution_count": 5,
   "metadata": {},
   "outputs": [
    {
     "name": "stdout",
     "output_type": "stream",
     "text": [
      "[[0.85407098]\n",
      " [1.        ]\n",
      " [0.70981211]\n",
      " [0.58956159]\n",
      " [0.84759916]\n",
      " [0.6263048 ]\n",
      " [0.78079332]\n",
      " [0.52881002]\n",
      " [0.40730689]\n",
      " [0.56158664]\n",
      " [0.6874739 ]\n",
      " [0.52338205]\n",
      " [0.52338205]\n",
      " [0.72087683]\n",
      " [0.79185804]\n",
      " [0.57411273]\n",
      " [0.44926931]\n",
      " [0.6263048 ]\n",
      " [0.        ]\n",
      " [0.6743215 ]\n",
      " [0.50730689]\n",
      " [0.76033403]\n",
      " [0.58872651]\n",
      " [0.6263048 ]\n",
      " [0.51356994]\n",
      " [0.        ]\n",
      " [0.58455115]\n",
      " [0.79394572]\n",
      " [0.50730689]]\n"
     ]
    }
   ],
   "source": [
    "# importing libraries\n",
    "import pandas\n",
    "import scipy\n",
    "import numpy\n",
    "from sklearn.preprocessing import MinMaxScaler\n",
    "\n",
    "# Open data set\n",
    "url = r'C:\\Users\\ACER\\Documents\\MY-CODE\\Kuliah\\data_nggenah.csv'\n",
    "# data parameters\n",
    "names = ['Duration','Date','Pulse','Maxpulse','Calories']\n",
    "\n",
    "# preparation of dataframe using the data at given link and defined columns list\n",
    "dataframe = pandas.read_csv(url, names = names)\n",
    "array = dataframe.values\n",
    "\n",
    "# Select column to rescale\n",
    "calories = array[:,4].reshape(-1,1)\n",
    "\n",
    "# Rescaling data\n",
    "scaler = MinMaxScaler(feature_range=(0, 1))\n",
    "rescaledX = scaler.fit_transform(calories)\n",
    "print(rescaledX)"
   ]
  },
  {
   "cell_type": "markdown",
   "metadata": {},
   "source": [
    "## Contoh 15: Binerisasi Data  "
   ]
  },
  {
   "cell_type": "code",
   "execution_count": 6,
   "metadata": {},
   "outputs": [
    {
     "name": "stdout",
     "output_type": "stream",
     "text": [
      "[[1]\n",
      " [1]\n",
      " [1]\n",
      " [1]\n",
      " [1]]\n"
     ]
    }
   ],
   "source": [
    "from sklearn.preprocessing import Binarizer \n",
    "import pandas as pd\n",
    "import numpy as np\n",
    "\n",
    "# Open data set\n",
    "url = r'C:\\Users\\ACER\\Documents\\MY-CODE\\Kuliah\\data_nggenah.csv'\n",
    "\n",
    "# Read the CSV file into a DataFrame\n",
    "dataframe = pd.read_csv(url, names=names)\n",
    "\n",
    "# Replace missing values (NaN) in the 'Pulse' column with a specific value, e.g., 0\n",
    "dataframe['Pulse'].fillna(0, inplace=True)\n",
    "\n",
    "# Get the 'Pulse' column as a NumPy array\n",
    "pulse = dataframe['Pulse'].values.reshape(-1, 1)\n",
    "\n",
    "# Binarize data\n",
    "binarizer = Binarizer(threshold=100.0).fit(pulse)\n",
    "binaryX = binarizer.transform(pulse)\n",
    "\n",
    "print(binaryX[0:5,:])\n"
   ]
  },
  {
   "cell_type": "markdown",
   "metadata": {},
   "source": [
    "## Contoh 16: Standarisasi Data "
   ]
  },
  {
   "cell_type": "code",
   "execution_count": 7,
   "metadata": {},
   "outputs": [
    {
     "name": "stdout",
     "output_type": "stream",
     "text": [
      "[[ 1.21397362]\n",
      " [ 1.90736498]\n",
      " [ 0.52851807]\n",
      " [-0.04286021]\n",
      " [ 1.18322236]\n",
      " [ 0.1317276 ]\n",
      " [ 0.86578998]\n",
      " [-0.33152528]\n",
      " [-0.90885543]\n",
      " [-0.17578502]\n",
      " [ 0.42237662]\n",
      " [-0.35731666]\n",
      " [-0.35731666]\n",
      " [ 0.58109281]\n",
      " [ 0.91836471]\n",
      " [-0.11626645]\n",
      " [-0.70946821]\n",
      " [ 0.1317276 ]\n",
      " [-2.84420097]\n",
      " [ 0.35988212]\n",
      " [-0.43369883]\n",
      " [ 0.76857631]\n",
      " [-0.04682812]\n",
      " [ 0.1317276 ]\n",
      " [-0.40393955]\n",
      " [-2.84420097]\n",
      " [-0.06666764]\n",
      " [ 0.92828448]\n",
      " [-0.43369883]]\n"
     ]
    }
   ],
   "source": [
    "# importing libraries \n",
    "from sklearn.preprocessing import StandardScaler \n",
    "\n",
    "# preparation of dataframe using the data at given link and defined columns list \n",
    "dataframe = pandas.read_csv(url, names = names) \n",
    "array = dataframe.values \n",
    " \n",
    "# Select column to rescale \n",
    "calories = array[:,4].reshape(-1,1)\n",
    " \n",
    "# Standardize data \n",
    "scaler = StandardScaler().fit(calories) \n",
    "rescaledX = scaler.transform(calories) \n",
    "\n",
    "print(rescaledX)"
   ]
  },
  {
   "cell_type": "markdown",
   "metadata": {},
   "source": []
  }
 ],
 "metadata": {
  "kernelspec": {
   "display_name": "base",
   "language": "python",
   "name": "python3"
  },
  "language_info": {
   "codemirror_mode": {
    "name": "ipython",
    "version": 3
   },
   "file_extension": ".py",
   "mimetype": "text/x-python",
   "name": "python",
   "nbconvert_exporter": "python",
   "pygments_lexer": "ipython3",
   "version": "3.9.16"
  },
  "orig_nbformat": 4
 },
 "nbformat": 4,
 "nbformat_minor": 2
}
